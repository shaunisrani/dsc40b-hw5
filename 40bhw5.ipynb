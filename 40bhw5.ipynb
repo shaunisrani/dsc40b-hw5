{
  "nbformat": 4,
  "nbformat_minor": 0,
  "metadata": {
    "colab": {
      "provenance": []
    },
    "kernelspec": {
      "name": "python3",
      "display_name": "Python 3"
    },
    "language_info": {
      "name": "python"
    }
  },
  "cells": [
    {
      "cell_type": "code",
      "execution_count": 4,
      "metadata": {
        "id": "y29ksE5vtK5M"
      },
      "outputs": [],
      "source": [
        "# 40b hw 5\n",
        "\n",
        "def mode(numbers):\n",
        "\n",
        "  \"\"\"\n",
        "  Calculates a mode of a list of numbers.\n",
        "\n",
        "  A mode is an element that occurs with the greatest frequency.\n",
        "  This function achieves an average-case time complexity of O(n) by using a\n",
        "  dictionary to store frequencies. If multiple modes exist, this function\n",
        "  returns one of them.\n",
        "\n",
        "  Args:\n",
        "    numbers: A list of numbers. The numbers can be non-integers and\n",
        "             non-positive.\n",
        "\n",
        "  Returns:\n",
        "    A mode of the list. Returns None if the input list is empty.\n",
        "  \"\"\"\n",
        "\n",
        "  if not numbers:\n",
        "    return None\n",
        "\n",
        "  # Step 1: Count the frequency of each number.\n",
        "  # This pass takes O(n) average-case time because dictionary insertions/accesses\n",
        "  # are O(1) on average.\n",
        "\n",
        "  counts = {}\n",
        "  for num in numbers:\n",
        "    counts[num] = counts.get(num, 0) + 1\n",
        "\n",
        "  # Step 2: Find the number with the highest frequency.\n",
        "  # This pass takes O(k) time, where k is the number of unique elements (k <= n).\n",
        "\n",
        "  max_count = 0\n",
        "  result_mode = None # Can be initialized with any element, e.g., numbers[0]\n",
        "\n",
        "  for num, count in counts.items():\n",
        "    if count > max_count:\n",
        "      max_count = count\n",
        "      result_mode = num\n",
        "\n",
        "  return result_mode"
      ]
    },
    {
      "cell_type": "code",
      "source": [
        "# --- Example Usage ---\n",
        "collection1 = [4, 5, 8, 3, 4, 2, 4, 5, 5, -2]\n",
        "print(f\"A mode of the collection is: {mode(collection1)}\")\n",
        "# Expected output: 4 or 5\n",
        "\n",
        "collection2 = [1, 2, 3, 4, 5]\n",
        "print(f\"A mode of the collection is: {mode(collection2)}\")\n",
        "# Expected output could be any of the elements.\n",
        "\n",
        "collection3 = []\n",
        "print(f\"A mode of the collection is: {mode(collection3)}\")\n",
        "# Expected output: None"
      ],
      "metadata": {
        "colab": {
          "base_uri": "https://localhost:8080/"
        },
        "id": "AFgLZSoltRQ5",
        "outputId": "c373116a-9b5a-4296-d380-99b74e77e7eb"
      },
      "execution_count": 5,
      "outputs": [
        {
          "output_type": "stream",
          "name": "stdout",
          "text": [
            "A mode of the collection is: 4\n",
            "A mode of the collection is: 1\n",
            "A mode of the collection is: None\n"
          ]
        }
      ]
    }
  ]
}